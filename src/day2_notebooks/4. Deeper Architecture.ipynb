{
 "cells": [
  {
   "cell_type": "code",
   "execution_count": 2,
   "metadata": {},
   "outputs": [],
   "source": [
    "# Imports"
   ]
  },
  {
   "cell_type": "code",
   "execution_count": 3,
   "metadata": {},
   "outputs": [],
   "source": [
    "# Load X and Y from h5 files\n",
    "def read_data_from_h5_files(x_path, y_path, labels_file):\n",
    "    '''\n",
    "        Read saved h5 files, shuffle, write the dataset split image ids in files\n",
    "    '''\n",
    "    # Load data H5 files\n",
    "    hf1 = h5py.File(x_path, 'r+')\n",
    "    X_train = hf1['X_train'].value\n",
    "    hf1.close()\n",
    "    hf2 = h5py.File(y_path, 'r+')\n",
    "    Y_train = hf2['Y_train'].value\n",
    "    hf2.close()\n",
    "    print('Data loaded from h5 files')\n",
    "\n",
    "    idxs = np.arange(X_train.shape[0])\n",
    "    np.random.shuffle(idxs)\n",
    "    X_train = X_train[idxs]\n",
    "    Y_train = Y_train[idxs]\n",
    "    print('Data shuffled')\n",
    "\n",
    "    return X_train, Y_train"
   ]
  },
  {
   "cell_type": "code",
   "execution_count": 1,
   "metadata": {},
   "outputs": [],
   "source": [
    "def vgg16_copy(IMAGE_SIZE, WEIGHT_FILE, N_class, LR, loss, OPT):\n",
    "    '''\n",
    "        Build/Define  VGG16 and load pretrained weights. used for all experiments\n",
    "        with regularisation, dropout etc...\n",
    "    '''\n",
    "    input_shape = (IMAGE_SIZE, IMAGE_SIZE, 3)\n",
    "    img_input = Input(shape=input_shape)\n",
    "    x = Conv2D(64, (3, 3), activation='relu', padding='same', name='block1_conv1')(img_input)\n",
    "    x = Conv2D(64, (3, 3), activation='relu', padding='same', name='block1_conv2')(x)\n",
    "    x = MaxPooling2D((2, 2), strides=(2, 2), name='block1_pool')(x)\n",
    "  \n",
    "    # Block 2\n",
    "    x = Conv2D(128, (3, 3), activation='relu', padding='same', name='block2_conv1')(x)\n",
    "    x = Conv2D(128, (3, 3), activation='relu', padding='same', name='block2_conv2')(x)\n",
    "    x = MaxPooling2D((2, 2), strides=(2, 2), name='block2_pool')(x)\n",
    "\n",
    "    # Block 3\n",
    "    x = Conv2D(256, (3, 3), activation='relu', padding='same', name='block3_conv1')(x)\n",
    "    x = Conv2D(256, (3, 3), activation='relu', padding='same', name='block3_conv2')(x)\n",
    "    x = Conv2D(256, (3, 3), activation='relu', padding='same', name='block3_conv3')(x)\n",
    "    x = MaxPooling2D((2, 2), strides=(2, 2), name='block3_pool')(x)\n",
    "\n",
    "    # Block 4\n",
    "    x = Conv2D(512, (3, 3), activation='relu', padding='same', name='block4_conv1')(x)\n",
    "    x = Conv2D(512, (3, 3), activation='relu', padding='same', name='block4_conv2')(x)\n",
    "    x = Conv2D(512, (3, 3), activation='relu', padding='same', name='block4_conv3')(x)\n",
    "    x = MaxPooling2D((2, 2), strides=(2, 2), name='block4_pool')(x)\n",
    "\n",
    "    # Block 5\n",
    "    x = Conv2D(512, (3, 3), activation='relu', padding='same', name='block5_conv1')(x)\n",
    "    x = Conv2D(512, (3, 3), activation='relu', padding='same', name='block5_conv2')(x)\n",
    "    x = Conv2D(512, (3, 3), activation='relu', padding='same', name='block5_conv3')(x)\n",
    "    M = MaxPooling2D((2, 2), strides=(2, 2), name='block5_pool')(x)\n",
    "\n",
    "    x = GlobalAveragePooling2D()(M)\n",
    "    model = Model(img_input, x)\n",
    "    model.load_weights(WEIGHT_FILE)\n",
    "    F = Flatten(name='flatten')(M)\n",
    "    FC1 = Dense(4096, activation='relu', name='fc1')(F)\n",
    "    D1 = Dropout(0.5)(FC1)\n",
    "    FC2 = Dense(500, activation='relu', name='fc2')(D1)\n",
    "    D2 = Dropout(0.5)(FC2)\n",
    "    y = Dense(N_class, activation='softmax', name='predictions')(x)\n",
    "    model = Model(img_input, y)\n",
    "\n",
    "    # Compile model with above settings\n",
    "    model.compile(loss=LOSS, optimizer=OPT, metrics=['accuracy'])\n",
    "    model.summary()\n",
    "    return model"
   ]
  },
  {
   "cell_type": "code",
   "execution_count": null,
   "metadata": {},
   "outputs": [],
   "source": [
    "# Configurations for the training\n",
    "n_class = 2\n",
    "batch_size = 50\n",
    "epochs = 30\n",
    "image_size = 224\n",
    "\n",
    "# More advanced configurations\n",
    "learning_rate = 0.01\n",
    "optimizer = 'adadelta'\n",
    "validation_split = 0.2\n",
    "\n",
    "# Data directories\n",
    "x_train_path = ''\n",
    "y_train_path = ''\n",
    "#labels_file = path.join(ds_base_dir, 'subsets/'+CONFIG['dataset_name']+'.txt')"
   ]
  },
  {
   "cell_type": "code",
   "execution_count": null,
   "metadata": {},
   "outputs": [],
   "source": [
    "X_train, Y_train = read_data_from_h5_files(x_train_path, y_train_path, labels_file)\n",
    "model = model_CPCPDHDH(image_size, N_class)\n",
    "history = model.fit(X_train, Y_train, batch_size=batch_size, nb_epoch=epochs, validation_split=val_split)"
   ]
  },
  {
   "cell_type": "code",
   "execution_count": null,
   "metadata": {},
   "outputs": [],
   "source": [
    "model.save(model_loc)\n",
    "val_loss = history.history['val_loss']\n",
    "val_acc = history.history['val_acc']\n",
    "train_loss = history.history['loss']\n",
    "train_acc = history.history['acc']\n",
    "\n",
    "# Display the Graph of Epochs vs Error"
   ]
  }
 ],
 "metadata": {
  "kernelspec": {
   "display_name": "Python 3",
   "language": "python",
   "name": "python3"
  },
  "language_info": {
   "codemirror_mode": {
    "name": "ipython",
    "version": 3
   },
   "file_extension": ".py",
   "mimetype": "text/x-python",
   "name": "python",
   "nbconvert_exporter": "python",
   "pygments_lexer": "ipython3",
   "version": "3.5.2"
  }
 },
 "nbformat": 4,
 "nbformat_minor": 2
}
