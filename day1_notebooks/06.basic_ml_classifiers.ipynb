{
 "cells": [
  {
   "cell_type": "markdown",
   "metadata": {
    "collapsed": true
   },
   "source": [
    "# Basic ML Classifiers"
   ]
  },
  {
   "cell_type": "code",
   "execution_count": 1,
   "metadata": {
    "collapsed": true
   },
   "outputs": [],
   "source": [
    "import os\n",
    "from os import path\n",
    "\n",
    "import numpy as np\n",
    "import cv2\n",
    "from skimage import io, color, transform\n",
    "import matplotlib.pyplot as plt"
   ]
  },
  {
   "cell_type": "code",
   "execution_count": 2,
   "metadata": {},
   "outputs": [],
   "source": [
    "def resize_image(img, size, padding=255):\n",
    "    '''\n",
    "    Resize the given image to specified size\n",
    "    Inputs:\n",
    "        img = Image to be resized (Numpy NDArray)\n",
    "        size = Scalar value. Image will be resized to (size, size)\n",
    "    Returns:\n",
    "        reszd_img = Resized image (Numpy NDArray)\n",
    "    '''\n",
    "    # Append zeros or ones based on the choice of padding\n",
    "    # to maintain the aspect ratio of the image\n",
    "    rows, cols = img.shape[:2]\n",
    "    max_size = max(rows, cols)\n",
    "    canvas = np.ones((max_size, max_size), np.uint8) * padding\n",
    "    \n",
    "    # Place the actual image at the center of the canvas\n",
    "    c_x, c_y = max_size / 2, max_size / 2\n",
    "    x_beg = max(0, int(c_x - (cols / 2)))\n",
    "    y_beg = max(0, int(c_y - (rows / 2)))\n",
    "    x_end, y_end = x_beg + cols, y_beg + rows\n",
    "    print(y_beg, x_beg, x_beg, x_end)\n",
    "    canvas[y_beg: y_end, x_beg: x_end] = img\n",
    "        \n",
    "    # Resize the image and write to op_dir_path specified\n",
    "    #reszd_img = transform.resize(canvas, (size, size))\n",
    "    reszd_img = cv2.resize(canvas, (size, size))\n",
    "    reszd_img = np.asarray(reszd_img, np.uint8)\n",
    "    # reszd_img = np.asarray(reszd_img * 255, np.uint8)\n",
    "    return reszd_img"
   ]
  },
  {
   "cell_type": "code",
   "execution_count": 3,
   "metadata": {
    "collapsed": true
   },
   "outputs": [],
   "source": [
    "def extract_features(image):\n",
    "    '''\n",
    "    Extract the features from the Image\n",
    "    '''\n",
    "    gray_img = cv2.cvtColor(image, cv2.COLOR_BGR2GRAY)\n",
    "    gray_img = resize_image(gray_img, 250)\n",
    "    gray_img = cv2.GaussianBlur(gray_img, (5, 5), 0)\n",
    "    \n",
    "    # Binarize the image using Adaptive thresholding\n",
    "    th, bin_img = cv2.threshold(gray_img, 250, 255, cv2.THRESH_BINARY_INV)\n",
    "    \n",
    "    # Close the holes by Morphological operations (Erosion and Dilation)\n",
    "    struct_elem = cv2.getStructuringElement(cv2.MORPH_RECT, (5, 5))\n",
    "    smooth_bin_img = cv2.erode(bin_img, struct_elem, iterations=1)\n",
    "    smooth_bin_img = cv2.dilate(smooth_bin_img, struct_elem, iterations=2)\n",
    "    \n",
    "    # Find all the contours from the binary image\n",
    "    img, contours, heirarchy = cv2.findContours(smooth_bin_img, cv2.RETR_EXTERNAL, cv2.CHAIN_APPROX_SIMPLE)\n",
    "    \n",
    "    # Find the circularity\n",
    "    x, y, w, h = cv2.boundingRect(contours[0])\n",
    "    rect_area = w * h\n",
    "    contour_area = cv2.contourArea(contours[0])\n",
    "    circularity = contour_area / rect_area\n",
    "    \n",
    "    # Find the compactness\n",
    "    mask_img = np.zeros_like(smooth_bin_img)\n",
    "    mask_img = cv2.drawContours(mask_img, [contours[0]], -1, 255, -1)\n",
    "    white_mask_img = cv2.bitwise_and(smooth_bin_img, smooth_bin_img, mask=mask_img)\n",
    "    white_area = cv2.countNonZero(white_mask_img)\n",
    "    compactness = white_area / contour_area\n",
    "    \n",
    "    features = [circularity, compactness]\n",
    "    \n",
    "    return features"
   ]
  },
  {
   "cell_type": "code",
   "execution_count": 4,
   "metadata": {
    "collapsed": true
   },
   "outputs": [],
   "source": [
    "def load_data_from_imgs(data_dir, class_label):\n",
    "    '''\n",
    "    Read images from the data directory\n",
    "    Extract features from images and load that into array\n",
    "    '''\n",
    "    all_features = []\n",
    "    for img_name in os.listdir(data_dir):\n",
    "        img_path = path.join(data_dir, img_name)\n",
    "        image = cv2.imread(img_path)\n",
    "        img_features = extract_features(image)\n",
    "        img_features.append(class_label)\n",
    "        all_features.append(img_features)\n",
    "    all_features = np.array(all_features, np.float)\n",
    "    return all_features"
   ]
  },
  {
   "cell_type": "code",
   "execution_count": 5,
   "metadata": {
    "collapsed": true
   },
   "outputs": [],
   "source": [
    "def test_model(model, X, y):\n",
    "    '''\n",
    "    Test the trained model with the test data\n",
    "    '''\n",
    "    pred_acc_list = []\n",
    "    for sample, label in zip(X, y):\n",
    "        pred = model.predict(sample.reshape(1, -1))[0]\n",
    "        pred_acc_list.append(int(pred) == int(label))\n",
    "    accuracy = sum(pred_acc_list) / float(len(pred_acc_list)) * 100\n",
    "    return accuracy"
   ]
  },
  {
   "cell_type": "code",
   "execution_count": 6,
   "metadata": {},
   "outputs": [
    {
     "name": "stdout",
     "output_type": "stream",
     "text": [
      "0 0 0 360\n",
      "0 0 0 500\n",
      "0 0 0 200\n",
      "0 0 0 300\n",
      "0 0 0 2100\n",
      "0 0 0 250\n",
      "0 0 0 750\n",
      "0 16 16 199\n",
      "0 3 3 224\n",
      "0 0 0 225\n",
      "0 0 0 225\n",
      "0 2 2 247\n",
      "0 0 0 1000\n",
      "0 0 0 500\n",
      "0 0 0 300\n",
      "0 0 0 250\n",
      "0 0 0 500\n",
      "3 0 0 300\n",
      "0 0 0 1000\n",
      "0 0 0 250\n",
      "40 0 0 386\n",
      "12 0 0 600\n",
      "0 0 0 2100\n",
      "0 0 0 250\n",
      "0 0 0 342\n",
      "0 0 0 330\n",
      "0 0 0 500\n",
      "0 0 0 400\n",
      "0 0 0 800\n",
      "40 0 0 386\n",
      "18 0 0 244\n",
      "0 0 0 450\n",
      "0 0 0 400\n",
      "57 0 0 1600\n",
      "0 0 0 1024\n",
      "0 0 0 250\n",
      "0 0 0 250\n",
      "0 0 0 276\n",
      "54 0 0 900\n",
      "0 0 0 400\n",
      "0 0 0 250\n",
      "0 0 0 300\n",
      "0 0 0 800\n",
      "0 0 0 2100\n",
      "0 0 0 250\n",
      "1 0 0 342\n",
      "125 0 0 573\n",
      "8 0 0 300\n",
      "0 0 0 450\n",
      "0 0 0 342\n",
      "0 22 22 422\n",
      "0 0 0 300\n",
      "0 3 3 345\n",
      "0 0 0 100\n",
      "22 0 0 248\n",
      "5 0 0 342\n",
      "0 0 0 250\n",
      "0 0 0 500\n",
      "0 0 0 500\n",
      "0 0 0 225\n",
      "5 0 0 1267\n",
      "0 0 0 281\n",
      "0 0 0 250\n",
      "89 0 0 423\n",
      "0 2 2 502\n",
      "36 0 0 264\n",
      "0 0 0 330\n",
      "0 0 0 500\n",
      "56 0 0 661\n",
      "0 0 0 100\n",
      "0 0 0 200\n",
      "0 0 0 250\n",
      "0 0 0 720\n",
      "74 0 0 444\n",
      "108 0 0 480\n",
      "0 1 1 319\n",
      "0 0 0 480\n",
      "0 0 0 500\n",
      "0 0 0 250\n",
      "62 0 0 374\n",
      "62 0 0 374\n",
      "0 0 0 250\n",
      "0 0 0 224\n",
      "34 0 0 381\n",
      "0 0 0 500\n",
      "151 0 0 600\n",
      "0 0 0 250\n",
      "0 0 0 225\n",
      "0 0 0 218\n",
      "0 0 0 1000\n",
      "0 0 0 300\n",
      "0 0 0 200\n",
      "0 4 4 495\n",
      "0 0 0 200\n",
      "0 0 0 224\n",
      "0 0 0 250\n",
      "62 0 0 374\n",
      "0 11 11 511\n",
      "120 0 0 960\n",
      "0 0 0 480\n",
      "0 0 0 174\n",
      "0 0 0 224\n",
      "4 0 0 229\n",
      "0 0 0 225\n",
      "0 0 0 300\n",
      "0 0 0 225\n",
      "0 7 7 349\n",
      "0 0 0 225\n",
      "0 0 0 250\n",
      "40 0 0 268\n",
      "18 0 0 244\n",
      "0 0 0 225\n",
      "0 0 0 250\n",
      "0 0 0 225\n",
      "26 0 0 252\n",
      "0 0 0 225\n",
      "0 2 2 198\n",
      "0 0 0 225\n",
      "0 0 0 225\n",
      "0 11 11 225\n",
      "0 0 0 225\n",
      "77 0 0 705\n",
      "0 0 0 200\n",
      "0 0 0 225\n",
      "21 0 0 247\n",
      "28 0 0 170\n",
      "54 0 0 285\n",
      "28 0 0 170\n",
      "28 0 0 170\n",
      "0 0 0 225\n",
      "5 0 0 230\n",
      "0 13 13 156\n",
      "47 0 0 277\n",
      "46 0 0 275\n",
      "28 0 0 450\n",
      "32 0 0 259\n",
      "0 31 31 139\n",
      "0 8 8 225\n",
      "46 0 0 450\n",
      "0 0 0 225\n",
      "0 0 0 225\n",
      "0 0 0 225\n",
      "0 0 0 225\n",
      "28 0 0 170\n",
      "28 0 0 170\n",
      "28 0 0 170\n",
      "46 0 0 275\n"
     ]
    }
   ],
   "source": [
    "data_dir = '../data/nuts_n_bolts_master/all_svm/'\n",
    "train_dir = path.join(data_dir, 'train')\n",
    "test_dir = path.join(data_dir, 'test')\n",
    "\n",
    "# Collect the Training and Test data\n",
    "nuts_class, bolts_class = 0, 1\n",
    "train_nuts_data = load_data_from_imgs(path.join(train_dir, 'nuts'), nuts_class)\n",
    "train_bolts_data = load_data_from_imgs(path.join(train_dir, 'bolts'), bolts_class)\n",
    "train_data = np.append(train_nuts_data, train_bolts_data, axis=0)\n",
    "np.random.shuffle(train_data)\n",
    "\n",
    "# Test data\n",
    "test_nuts_data = load_data_from_imgs(path.join(test_dir, 'nuts'), nuts_class)\n",
    "test_bolts_data = load_data_from_imgs(path.join(test_dir, 'bolts'), bolts_class)\n",
    "test_data = np.append(test_nuts_data, test_bolts_data, axis=0)\n",
    "np.random.shuffle(test_data)"
   ]
  },
  {
   "cell_type": "code",
   "execution_count": 7,
   "metadata": {
    "collapsed": true
   },
   "outputs": [],
   "source": [
    "from sklearn import tree\n",
    "X, y = train_data[:, :2], train_data[:, 2]\n",
    "test_X, test_y = test_data[:, :2], test_data[:, 2]\n",
    "dec_tr_clf = tree.DecisionTreeClassifier()\n",
    "dec_tr_clf = dec_tr_clf.fit(X, y)"
   ]
  },
  {
   "cell_type": "code",
   "execution_count": 8,
   "metadata": {},
   "outputs": [
    {
     "name": "stdout",
     "output_type": "stream",
     "text": [
      "Accuracy 89.36170212765957\n"
     ]
    }
   ],
   "source": [
    "print('Accuracy', test_model(dec_tr_clf, test_X, test_y))"
   ]
  },
  {
   "cell_type": "code",
   "execution_count": 9,
   "metadata": {},
   "outputs": [
    {
     "ename": "ImportError",
     "evalue": "No module named 'graphviz'",
     "output_type": "error",
     "traceback": [
      "\u001b[0;31m---------------------------------------------------------------------------\u001b[0m",
      "\u001b[0;31mImportError\u001b[0m                               Traceback (most recent call last)",
      "\u001b[0;32m<ipython-input-9-c4e49f9aed84>\u001b[0m in \u001b[0;36m<module>\u001b[0;34m()\u001b[0m\n\u001b[0;32m----> 1\u001b[0;31m \u001b[0;32mimport\u001b[0m \u001b[0mgraphviz\u001b[0m\u001b[0;34m\u001b[0m\u001b[0m\n\u001b[0m\u001b[1;32m      2\u001b[0m dot_data = tree.export_graphviz(dec_tr_clf, out_file=None,\n\u001b[1;32m      3\u001b[0m                                 \u001b[0mfeature_names\u001b[0m\u001b[0;34m=\u001b[0m\u001b[0;34m[\u001b[0m\u001b[0;34m'circularity'\u001b[0m\u001b[0;34m,\u001b[0m \u001b[0;34m'compactness'\u001b[0m\u001b[0;34m]\u001b[0m\u001b[0;34m,\u001b[0m\u001b[0;34m\u001b[0m\u001b[0m\n\u001b[1;32m      4\u001b[0m                                 \u001b[0mclass_names\u001b[0m\u001b[0;34m=\u001b[0m\u001b[0;34m[\u001b[0m\u001b[0;34m'Nut'\u001b[0m\u001b[0;34m,\u001b[0m \u001b[0;34m'Bolt'\u001b[0m\u001b[0;34m]\u001b[0m\u001b[0;34m,\u001b[0m\u001b[0;34m\u001b[0m\u001b[0m\n\u001b[1;32m      5\u001b[0m                                 \u001b[0mfilled\u001b[0m\u001b[0;34m=\u001b[0m\u001b[0;32mTrue\u001b[0m\u001b[0;34m,\u001b[0m \u001b[0mrounded\u001b[0m\u001b[0;34m=\u001b[0m\u001b[0;32mTrue\u001b[0m\u001b[0;34m,\u001b[0m\u001b[0;34m\u001b[0m\u001b[0m\n",
      "\u001b[0;31mImportError\u001b[0m: No module named 'graphviz'"
     ]
    }
   ],
   "source": [
    "import graphviz \n",
    "dot_data = tree.export_graphviz(dec_tr_clf, out_file=None,\n",
    "                                feature_names=['circularity', 'compactness'],\n",
    "                                class_names=['Nut', 'Bolt'],\n",
    "                                filled=True, rounded=True,\n",
    "                                special_characters=True) \n",
    "graph = graphviz.Source(dot_data) \n",
    "graph.render(\"Nuts and Bolts\")\n",
    "graph"
   ]
  },
  {
   "cell_type": "code",
   "execution_count": 10,
   "metadata": {},
   "outputs": [
    {
     "data": {
      "image/png": "[encoded data removed]",
      "text/plain": [
       "<matplotlib.figure.Figure at 0x7f2b986a8b70>"
      ]
     },
     "metadata": {},
     "output_type": "display_data"
    }
   ],
   "source": [
    "plot_step = 0.02\n",
    "x_min, x_max = X[:, 0].min() - 1, X[:, 0].max() + 1\n",
    "y_min, y_max = X[:, 1].min() - 1, X[:, 1].max() + 1\n",
    "xx, yy = np.meshgrid(np.arange(x_min, x_max, plot_step),\n",
    "                     np.arange(y_min, y_max, plot_step))\n",
    "\n",
    "Z = dec_tr_clf.predict(np.c_[xx.ravel(), yy.ravel()])\n",
    "Z = Z.reshape(xx.shape)\n",
    "cs = plt.contourf(xx, yy, Z, cmap=plt.cm.RdYlBu)\n",
    "\n",
    "plt.xlabel('Circularity')\n",
    "plt.ylabel('Compactness')\n",
    "target_names = ['Nut', 'Bolt']\n",
    "\n",
    "# Plot the training points\n",
    "for i, color in zip(range(2), 'rb'):\n",
    "    idx = np.where(y == i)\n",
    "    plt.scatter(X[idx, 0], X[idx, 1], c=color, label=target_names[i],\n",
    "                cmap=plt.cm.RdYlBu, edgecolor='black', s=20)\n",
    "plt.xlim([0.2, 1.2])\n",
    "plt.ylim([0.2, 1.5])\n",
    "plt.show()"
   ]
  },
  {
   "cell_type": "markdown",
   "metadata": {},
   "source": [
    "## Logistic Regression"
   ]
  },
  {
   "cell_type": "code",
   "execution_count": 11,
   "metadata": {},
   "outputs": [
    {
     "data": {
      "text/plain": [
       "LogisticRegression(C=1.0, class_weight=None, dual=False, fit_intercept=True,\n",
       "          intercept_scaling=1, max_iter=100, multi_class='ovr', n_jobs=1,\n",
       "          penalty='l2', random_state=None, solver='liblinear', tol=0.0001,\n",
       "          verbose=0, warm_start=False)"
      ]
     },
     "execution_count": 11,
     "metadata": {},
     "output_type": "execute_result"
    }
   ],
   "source": [
    "from sklearn import linear_model\n",
    "log_reg_clf = linear_model.LogisticRegression()\n",
    "\n",
    "# we create an instance of Neighbours Classifier and fit the data.\n",
    "log_reg_clf.fit(X, y)"
   ]
  },
  {
   "cell_type": "code",
   "execution_count": 12,
   "metadata": {},
   "outputs": [
    {
     "name": "stdout",
     "output_type": "stream",
     "text": [
      "(100, 2) (100,)\n",
      "[ 0.79887486  0.96896243]\n",
      "(47,) (47,) (47,) (47, 2)\n",
      "38\n",
      "47\n",
      "80.85106382978724\n"
     ]
    }
   ],
   "source": [
    "import cv2 as cv\n",
    "#import cv2\n",
    "# svm_params = dict( kernel_type = cv2.SVM_LINEAR,\n",
    "#                    svm_type = cv2.SVM_C_SVC,\n",
    "#                    C=2.67, gamma=5.383 )\n",
    "# svm = cv2.SVM()\n",
    "# svm.train(X,Y, params=svm_params)\n",
    "# svm.save('svm_data.dat')\n",
    "# result = svm.predict_all(test_X)\n",
    "\n",
    "\n",
    "#svm = cv2.ml.SVM_create()\n",
    "#svm.setType(cv2.ml.SVM_C_SVC)\n",
    "#svm.setKernel(cv2.ml.SVM_LINEAR)\n",
    "#svm.setDegree(0.0)\n",
    "#svm.setGamma(0.0)\n",
    "#svm.setCoef0(0.0)\n",
    "#svm.setC(0)\n",
    "#svm.setNu(0.0)\n",
    "#svm.setP(0.0)\n",
    "#svm.setClassWeights(None)\n",
    "#svm.setTermCriteria((cv2.TERM_CRITERIA_COUNT, 100, 1.e-06))\n",
    "#rint(X,y)\n",
    "\n",
    "svm = cv.ml.SVM_create()\n",
    "svm.setType(cv.ml.SVM_C_SVC)\n",
    "svm.setKernel(cv.ml.SVM_LINEAR)\n",
    "svm.setGamma(5.383)\n",
    "svm.setC(2.67)\n",
    "svm.setTermCriteria((cv.TERM_CRITERIA_COUNT, 100, 1e-6))\n",
    "\n",
    "#X = np.asarray(X, dtype = np.float32).reshape(X.shape[0], 1, X.shape[1])\n",
    "X = np.asarray(X, dtype = np.float32)\n",
    "y = np.asarray(y, dtype = np.int32)\n",
    "test_X = np.asarray(test_X, dtype = np.float32)\n",
    "\n",
    "#X = np.matrix([[501, 10], [255, 10], [501, 255], [10, 501]], dtype=np.float32)\n",
    "#y = np.array([1, -1, -1, -1])\n",
    "\n",
    "\n",
    "print(X.shape, y.shape)\n",
    "print(X[0])\n",
    "svm.train(X, cv.ml.ROW_SAMPLE, y)\n",
    "_, result = svm.predict(test_X)\n",
    "#print(result)\n",
    "result = result.reshape(result.shape[0])\n",
    "mask = np.equal(result,test_y)\n",
    "print(mask.shape, result.shape, test_y.shape, test_X.shape)\n",
    "correct = len([1 for label in mask if label == True])\n",
    "print(correct)\n",
    "print(result.size)\n",
    "print(correct*100.0/result.size)\n",
    "svm.save('svm_data.dat')"
   ]
  },
  {
   "cell_type": "code",
   "execution_count": 13,
   "metadata": {},
   "outputs": [
    {
     "ename": "AttributeError",
     "evalue": "'module' object has no attribute 'SVM_load'",
     "output_type": "error",
     "traceback": [
      "\u001b[0;31m---------------------------------------------------------------------------\u001b[0m",
      "\u001b[0;31mAttributeError\u001b[0m                            Traceback (most recent call last)",
      "\u001b[0;32m<ipython-input-13-b5523027f70f>\u001b[0m in \u001b[0;36m<module>\u001b[0;34m()\u001b[0m\n\u001b[1;32m      1\u001b[0m \u001b[0;32mimport\u001b[0m \u001b[0mcv2\u001b[0m\u001b[0;34m\u001b[0m\u001b[0m\n\u001b[0;32m----> 2\u001b[0;31m \u001b[0msvm\u001b[0m \u001b[0;34m=\u001b[0m \u001b[0mcv2\u001b[0m\u001b[0;34m.\u001b[0m\u001b[0mml\u001b[0m\u001b[0;34m.\u001b[0m\u001b[0mSVM_load\u001b[0m\u001b[0;34m(\u001b[0m\u001b[0;34m'./svm.dat'\u001b[0m\u001b[0;34m)\u001b[0m\u001b[0;34m\u001b[0m\u001b[0m\n\u001b[0m\u001b[1;32m      3\u001b[0m \u001b[0mimage\u001b[0m \u001b[0;34m=\u001b[0m \u001b[0mcv2\u001b[0m\u001b[0;34m.\u001b[0m\u001b[0mimread\u001b[0m\u001b[0;34m(\u001b[0m\u001b[0;34m'/home/senthil/Personal/workshop/ahws_17/examples/data/nuts_bolts_v1/bolt.jpg'\u001b[0m\u001b[0;34m)\u001b[0m\u001b[0;34m\u001b[0m\u001b[0m\n\u001b[1;32m      4\u001b[0m \u001b[0mimage_features\u001b[0m \u001b[0;34m=\u001b[0m \u001b[0mextract_features\u001b[0m\u001b[0;34m(\u001b[0m\u001b[0mimage\u001b[0m\u001b[0;34m)\u001b[0m\u001b[0;34m.\u001b[0m\u001b[0mreshape\u001b[0m\u001b[0;34m(\u001b[0m\u001b[0;36m1\u001b[0m\u001b[0;34m,\u001b[0m \u001b[0mimage_features\u001b[0m\u001b[0;34m.\u001b[0m\u001b[0mshape\u001b[0m\u001b[0;34m[\u001b[0m\u001b[0;36m0\u001b[0m\u001b[0;34m]\u001b[0m\u001b[0;34m)\u001b[0m\u001b[0;34m\u001b[0m\u001b[0m\n\u001b[1;32m      5\u001b[0m \u001b[0m_\u001b[0m\u001b[0;34m,\u001b[0m \u001b[0mresult\u001b[0m \u001b[0;34m=\u001b[0m \u001b[0msvm\u001b[0m\u001b[0;34m.\u001b[0m\u001b[0mpredict\u001b[0m\u001b[0;34m(\u001b[0m\u001b[0mimage_features\u001b[0m\u001b[0;34m)\u001b[0m\u001b[0;34m\u001b[0m\u001b[0m\n",
      "\u001b[0;31mAttributeError\u001b[0m: 'module' object has no attribute 'SVM_load'"
     ]
    }
   ],
   "source": [
    "import cv2\n",
    "svm = cv2.ml.SVM_load('./svm.dat')\n",
    "image = cv2.imread('/home/senthil/Personal/workshop/ahws_17/examples/data/nuts_bolts_v1/bolt.jpg')\n",
    "image_features = extract_features(image).reshape(1, image_features.shape[0])\n",
    "_, result = svm.predict(image_features)\n",
    "print(result)\n",
    "\n",
    "\n"
   ]
  },
  {
   "cell_type": "code",
   "execution_count": 19,
   "metadata": {},
   "outputs": [
    {
     "name": "stdout",
     "output_type": "stream",
     "text": [
      "Logistic Regression Accuracy =  87.2340425531915\n"
     ]
    }
   ],
   "source": [
    "print('Logistic Regression Accuracy = ', test_model(log_reg_clf, test_X, test_y))"
   ]
  },
  {
   "cell_type": "markdown",
   "metadata": {},
   "source": [
    "### Logistic Regression Visualization"
   ]
  },
  {
   "cell_type": "code",
   "execution_count": 2,
   "metadata": {},
   "outputs": [
    {
     "ename": "NameError",
     "evalue": "name 'X' is not defined",
     "output_type": "error",
     "traceback": [
      "\u001b[0;31m---------------------------------------------------------------------------\u001b[0m",
      "\u001b[0;31mNameError\u001b[0m                                 Traceback (most recent call last)",
      "\u001b[0;32m<ipython-input-2-fe7425c19514>\u001b[0m in \u001b[0;36m<module>\u001b[0;34m()\u001b[0m\n\u001b[1;32m      2\u001b[0m \u001b[0;31m# Plot the decision boundary. For that, we will assign a color to each\u001b[0m\u001b[0;34m\u001b[0m\u001b[0;34m\u001b[0m\u001b[0m\n\u001b[1;32m      3\u001b[0m \u001b[0;31m# point in the mesh [x_min, x_max]x[y_min, y_max].\u001b[0m\u001b[0;34m\u001b[0m\u001b[0;34m\u001b[0m\u001b[0m\n\u001b[0;32m----> 4\u001b[0;31m \u001b[0mx_min\u001b[0m\u001b[0;34m,\u001b[0m \u001b[0mx_max\u001b[0m \u001b[0;34m=\u001b[0m \u001b[0mX\u001b[0m\u001b[0;34m[\u001b[0m\u001b[0;34m:\u001b[0m\u001b[0;34m,\u001b[0m \u001b[0;36m0\u001b[0m\u001b[0;34m]\u001b[0m\u001b[0;34m.\u001b[0m\u001b[0mmin\u001b[0m\u001b[0;34m(\u001b[0m\u001b[0;34m)\u001b[0m \u001b[0;34m-\u001b[0m \u001b[0;36m.5\u001b[0m\u001b[0;34m,\u001b[0m \u001b[0mX\u001b[0m\u001b[0;34m[\u001b[0m\u001b[0;34m:\u001b[0m\u001b[0;34m,\u001b[0m \u001b[0;36m0\u001b[0m\u001b[0;34m]\u001b[0m\u001b[0;34m.\u001b[0m\u001b[0mmax\u001b[0m\u001b[0;34m(\u001b[0m\u001b[0;34m)\u001b[0m \u001b[0;34m+\u001b[0m \u001b[0;36m.5\u001b[0m\u001b[0;34m\u001b[0m\u001b[0m\n\u001b[0m\u001b[1;32m      5\u001b[0m \u001b[0my_min\u001b[0m\u001b[0;34m,\u001b[0m \u001b[0my_max\u001b[0m \u001b[0;34m=\u001b[0m \u001b[0mX\u001b[0m\u001b[0;34m[\u001b[0m\u001b[0;34m:\u001b[0m\u001b[0;34m,\u001b[0m \u001b[0;36m1\u001b[0m\u001b[0;34m]\u001b[0m\u001b[0;34m.\u001b[0m\u001b[0mmin\u001b[0m\u001b[0;34m(\u001b[0m\u001b[0;34m)\u001b[0m \u001b[0;34m-\u001b[0m \u001b[0;36m.5\u001b[0m\u001b[0;34m,\u001b[0m \u001b[0mX\u001b[0m\u001b[0;34m[\u001b[0m\u001b[0;34m:\u001b[0m\u001b[0;34m,\u001b[0m \u001b[0;36m1\u001b[0m\u001b[0;34m]\u001b[0m\u001b[0;34m.\u001b[0m\u001b[0mmax\u001b[0m\u001b[0;34m(\u001b[0m\u001b[0;34m)\u001b[0m \u001b[0;34m+\u001b[0m \u001b[0;36m.5\u001b[0m\u001b[0;34m\u001b[0m\u001b[0m\n\u001b[1;32m      6\u001b[0m \u001b[0mxx\u001b[0m\u001b[0;34m,\u001b[0m \u001b[0myy\u001b[0m \u001b[0;34m=\u001b[0m \u001b[0mnp\u001b[0m\u001b[0;34m.\u001b[0m\u001b[0mmeshgrid\u001b[0m\u001b[0;34m(\u001b[0m\u001b[0mnp\u001b[0m\u001b[0;34m.\u001b[0m\u001b[0marange\u001b[0m\u001b[0;34m(\u001b[0m\u001b[0mx_min\u001b[0m\u001b[0;34m,\u001b[0m \u001b[0mx_max\u001b[0m\u001b[0;34m,\u001b[0m \u001b[0mh\u001b[0m\u001b[0;34m)\u001b[0m\u001b[0;34m,\u001b[0m \u001b[0mnp\u001b[0m\u001b[0;34m.\u001b[0m\u001b[0marange\u001b[0m\u001b[0;34m(\u001b[0m\u001b[0my_min\u001b[0m\u001b[0;34m,\u001b[0m \u001b[0my_max\u001b[0m\u001b[0;34m,\u001b[0m \u001b[0mh\u001b[0m\u001b[0;34m)\u001b[0m\u001b[0;34m)\u001b[0m\u001b[0;34m\u001b[0m\u001b[0m\n",
      "\u001b[0;31mNameError\u001b[0m: name 'X' is not defined"
     ]
    }
   ],
   "source": [
    "h = .02  # step size in the mesh\n",
    "# Plot the decision boundary. For that, we will assign a color to each\n",
    "# point in the mesh [x_min, x_max]x[y_min, y_max].\n",
    "x_min, x_max = X[:, 0].min() - .5, X[:, 0].max() + .5\n",
    "y_min, y_max = X[:, 1].min() - .5, X[:, 1].max() + .5\n",
    "xx, yy = np.meshgrid(np.arange(x_min, x_max, h), np.arange(y_min, y_max, h))\n",
    "Z = log_reg_clf.predict(np.c_[xx.ravel(), yy.ravel()])\n",
    "\n",
    "# Put the result into a color plot\n",
    "Z = Z.reshape(xx.shape)\n",
    "plt.figure(1, figsize=(4, 3))\n",
    "plt.pcolormesh(xx, yy, Z, cmap=plt.cm.RdYlBu)\n",
    "\n",
    "# Plot also the training points\n",
    "y_clrs = ['r' if elem==0 else 'b' for elem in y]\n",
    "plt.scatter(X[:, 0], X[:, 1], c=y_clrs, edgecolors='k', cmap=plt.cm.Paired)\n",
    "plt.xlabel('Circularity')\n",
    "plt.ylabel('Compactness')\n",
    "\n",
    "plt.xlim([0.1, 1.2])\n",
    "plt.ylim([0.2, 1.5])\n",
    "\n",
    "plt.show()"
   ]
  },
  {
   "cell_type": "code",
   "execution_count": null,
   "metadata": {
    "collapsed": true
   },
   "outputs": [],
   "source": []
  }
 ],
 "metadata": {
  "kernelspec": {
   "display_name": "Python 3",
   "language": "python",
   "name": "python3"
  },
  "language_info": {
   "codemirror_mode": {
    "name": "ipython",
    "version": 3
   },
   "file_extension": ".py",
   "mimetype": "text/x-python",
   "name": "python",
   "nbconvert_exporter": "python",
   "pygments_lexer": "ipython3",
   "version": "3.4.3"
  }
 },
 "nbformat": 4,
 "nbformat_minor": 2
}
