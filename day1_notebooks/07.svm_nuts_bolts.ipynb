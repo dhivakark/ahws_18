{
 "cells": [
  {
   "cell_type": "markdown",
   "metadata": {},
   "source": [
    "# Support Vector Machines (SVM)\n",
    "## Utility functions"
   ]
  },
  {
   "cell_type": "code",
   "execution_count": 2,
   "metadata": {
    "collapsed": true
   },
   "outputs": [],
   "source": [
    "import os\n",
    "from os import path\n",
    "\n",
    "import numpy as np\n",
    "import cv2\n",
    "from skimage import io, color, transform\n",
    "import matplotlib.pyplot as plt"
   ]
  },
  {
   "cell_type": "code",
   "execution_count": 3,
   "metadata": {
    "collapsed": true
   },
   "outputs": [],
   "source": [
    "def resize_image(img, size, padding=255):\n",
    "    '''\n",
    "    Resize the given image to specified size\n",
    "    Inputs:\n",
    "        img = Image to be resized (Numpy NDArray)\n",
    "        size = Scalar value. Image will be resized to (size, size)\n",
    "    Returns:\n",
    "        reszd_img = Resized image (Numpy NDArray)\n",
    "    '''\n",
    "    # Append zeros or ones based on the choice of padding\n",
    "    # to maintain the aspect ratio of the image\n",
    "    rows, cols = img.shape[:2]\n",
    "    max_size = max(rows, cols)\n",
    "    canvas = np.ones((max_size, max_size), np.uint8) * padding\n",
    "    \n",
    "    # Place the actual image at the center of the canvas\n",
    "    c_x, c_y = max_size / 2, max_size / 2\n",
    "    x_beg = max(0, c_x - (cols / 2))\n",
    "    y_beg = max(0, c_y - (rows / 2))\n",
    "    x_end, y_end = x_beg + cols, y_beg + rows\n",
    "    canvas[y_beg: y_end, x_beg: x_end] = img\n",
    "        \n",
    "    # Resize the image and write to op_dir_path specified\n",
    "    reszd_img = transform.resize(canvas, (size, size))\n",
    "    reszd_img = np.asarray(reszd_img * 255, np.uint8)\n",
    "    return reszd_img"
   ]
  },
  {
   "cell_type": "code",
   "execution_count": 4,
   "metadata": {
    "collapsed": true
   },
   "outputs": [],
   "source": [
    "def extract_features(image):\n",
    "    '''\n",
    "    Extract the features from the Image\n",
    "    This function does exactly the same thing we did\n",
    "    in the previous Hands-on (05.nuts_n_bolts_cv)\n",
    "    Input:\n",
    "      image = Input image (numpy NDArray)\n",
    "    Returns:\n",
    "      features = Extracted features (Cirucularity and Compactness)\n",
    "    '''\n",
    "    gray_img = cv2.cvtColor(image, cv2.COLOR_BGR2GRAY)\n",
    "    gray_img = resize_image(gray_img, 250)\n",
    "    gray_img = cv2.GaussianBlur(gray_img, (5, 5), 0)\n",
    "    \n",
    "    # Binarize the image using Adaptive thresholding\n",
    "    th, bin_img = cv2.threshold(gray_img, 250, 255, cv2.THRESH_BINARY_INV)\n",
    "    \n",
    "    # Close the holes by Morphological operations (Erosion and Dilation)\n",
    "    struct_elem = cv2.getStructuringElement(cv2.MORPH_RECT, (5, 5))\n",
    "    smooth_bin_img = cv2.erode(bin_img, struct_elem, iterations=1)\n",
    "    smooth_bin_img = cv2.dilate(smooth_bin_img, struct_elem, iterations=2)\n",
    "    \n",
    "    # Find all the contours from the binary image\n",
    "    img, contours, heirarchy = cv2.findContours(smooth_bin_img, cv2.RETR_EXTERNAL, cv2.CHAIN_APPROX_SIMPLE)\n",
    "    \n",
    "    # Find the circularity\n",
    "    x, y, w, h = cv2.boundingRect(contours[0])\n",
    "    rect_area = w * h\n",
    "    contour_area = cv2.contourArea(contours[0])\n",
    "    circularity = contour_area / rect_area\n",
    "    \n",
    "    # Find the compactness\n",
    "    mask_img = np.zeros_like(smooth_bin_img)\n",
    "    mask_img = cv2.drawContours(mask_img, [contours[0]], -1, 255, -1)\n",
    "    white_mask_img = cv2.bitwise_and(smooth_bin_img, smooth_bin_img, mask=mask_img)\n",
    "    white_area = cv2.countNonZero(white_mask_img)\n",
    "    compactness = white_area / contour_area\n",
    "    \n",
    "    features = [circularity, compactness]\n",
    "    \n",
    "    return features"
   ]
  },
  {
   "cell_type": "code",
   "execution_count": 5,
   "metadata": {
    "collapsed": true
   },
   "outputs": [],
   "source": [
    "def load_data_from_imgs(data_dir, class_label):\n",
    "    '''\n",
    "    Read images from the data directory\n",
    "    Extract features from images and load that into array\n",
    "    '''\n",
    "    all_features = []\n",
    "    for img_name in os.listdir(data_dir):\n",
    "        img_path = path.join(data_dir, img_name)\n",
    "        image = cv2.imread(img_path)\n",
    "        img_features = extract_features(image)\n",
    "        img_features.append(class_label)\n",
    "        all_features.append(img_features)\n",
    "    all_features = np.array(all_features, np.float)\n",
    "    return all_features"
   ]
  },
  {
   "cell_type": "code",
   "execution_count": 6,
   "metadata": {
    "collapsed": true
   },
   "outputs": [],
   "source": [
    "def test_model(model, X, y):\n",
    "    '''\n",
    "    Test the trained model with the test data\n",
    "    '''\n",
    "    pred_acc_list = []\n",
    "    for sample, label in zip(X, y):\n",
    "        pred = model.predict(sample.reshape(1, -1))[0]\n",
    "        pred_acc_list.append(int(pred) == int(label))\n",
    "    accuracy = sum(pred_acc_list) / float(len(pred_acc_list)) * 100\n",
    "    return accuracy"
   ]
  },
  {
   "cell_type": "markdown",
   "metadata": {},
   "source": [
    "## Loading Data\n",
    "\n",
    "We have 2 datasets to test the performance of SVM\n",
    "1. all_svm => Less variations\n",
    "2. all => Lot of variations, more colors and more components in single image"
   ]
  },
  {
   "cell_type": "code",
   "execution_count": 7,
   "metadata": {},
   "outputs": [
    {
     "name": "stderr",
     "output_type": "stream",
     "text": [
      "/home/dhivakar/sys/sw/virt_envs/ahws/local/lib/python2.7/site-packages/skimage/transform/_warps.py:84: UserWarning: The default mode, 'constant', will be changed to 'reflect' in skimage 0.15.\n",
      "  warn(\"The default mode, 'constant', will be changed to 'reflect' in \"\n"
     ]
    }
   ],
   "source": [
    "data_dir = '../data/nuts_n_bolts_master/all_svm/'\n",
    "#data_dir = '../data/nuts_n_bolts_master/all/'\n",
    "train_dir = path.join(data_dir, 'train')\n",
    "test_dir = path.join(data_dir, 'test')\n",
    "\n",
    "# Collect the Training and Test data\n",
    "nuts_class, bolts_class = 0, 1\n",
    "train_nuts_data = load_data_from_imgs(path.join(train_dir, 'nuts'), nuts_class)\n",
    "train_bolts_data = load_data_from_imgs(path.join(train_dir, 'bolts'), bolts_class)\n",
    "train_data = np.append(train_nuts_data, train_bolts_data, axis=0)\n",
    "np.random.shuffle(train_data)\n",
    "\n",
    "# Test data\n",
    "test_nuts_data = load_data_from_imgs(path.join(test_dir, 'nuts'), nuts_class)\n",
    "test_bolts_data = load_data_from_imgs(path.join(test_dir, 'bolts'), bolts_class)\n",
    "test_data = np.append(test_nuts_data, test_bolts_data, axis=0)\n",
    "np.random.shuffle(test_data)"
   ]
  },
  {
   "cell_type": "markdown",
   "metadata": {},
   "source": [
    "## SVM with 2 Features\n",
    "**Features**\n",
    "* Circularity\n",
    "* Compactness  \n",
    "\n",
    "**Class lables**\n",
    "* Nuts = 0\n",
    "* Bolts = 1\n",
    "\n",
    "We can use SVM implementation from Scikit-Learn  \n",
    "Important parameters to notice\n",
    "* kernel\n",
    "* gamma\n",
    "* C\n",
    "* max_iter"
   ]
  },
  {
   "cell_type": "code",
   "execution_count": 28,
   "metadata": {
    "collapsed": true
   },
   "outputs": [],
   "source": [
    "# Training with SVM\n",
    "from sklearn import svm\n",
    "clf = svm.SVC(kernel='rbf', gamma=0.7, C=1.0, max_iter=50, verbose=True)"
   ]
  },
  {
   "cell_type": "code",
   "execution_count": 29,
   "metadata": {},
   "outputs": [
    {
     "name": "stdout",
     "output_type": "stream",
     "text": [
      "[LibSVM]"
     ]
    },
    {
     "data": {
      "text/plain": [
       "SVC(C=1.0, cache_size=200, class_weight=None, coef0=0.0,\n",
       "  decision_function_shape=None, degree=3, gamma=0.7, kernel='rbf',\n",
       "  max_iter=50, probability=False, random_state=None, shrinking=True,\n",
       "  tol=0.001, verbose=True)"
      ]
     },
     "execution_count": 29,
     "metadata": {},
     "output_type": "execute_result"
    }
   ],
   "source": [
    "X, y = train_data[:, :2], train_data[:, 2]\n",
    "clf.fit(X, y)"
   ]
  },
  {
   "cell_type": "code",
   "execution_count": 30,
   "metadata": {},
   "outputs": [
    {
     "data": {
      "text/plain": [
       "85.1063829787234"
      ]
     },
     "execution_count": 30,
     "metadata": {},
     "output_type": "execute_result"
    }
   ],
   "source": [
    "# Get the test data and predict\n",
    "test_X, test_y = test_data[:, :2], test_data[:, 2]\n",
    "test_svm(clf, test_X, test_y)"
   ]
  },
  {
   "cell_type": "markdown",
   "metadata": {},
   "source": [
    "### SVM Visualization"
   ]
  },
  {
   "cell_type": "code",
   "execution_count": 26,
   "metadata": {
    "collapsed": true
   },
   "outputs": [],
   "source": [
    "def make_meshgrid(x, y, h=.02):\n",
    "    '''\n",
    "    Create a mesh of points to plot in\n",
    "\n",
    "    Parameters\n",
    "    ----------\n",
    "    x: data to base x-axis meshgrid on\n",
    "    y: data to base y-axis meshgrid on\n",
    "    h: stepsize for meshgrid, optional\n",
    "\n",
    "    Returns\n",
    "    -------\n",
    "    xx, yy : ndarray\n",
    "    '''\n",
    "    x_min, x_max = x.min() - 1, x.max() + 1\n",
    "    y_min, y_max = y.min() - 1, y.max() + 1\n",
    "    xx, yy = np.meshgrid(np.arange(x_min, x_max, h),\n",
    "                         np.arange(y_min, y_max, h))\n",
    "    return xx, yy\n",
    "\n",
    "\n",
    "def plot_contours(ax, clf, xx, yy, **params):\n",
    "    '''\n",
    "    Plot the decision boundaries for a classifier.\n",
    "\n",
    "    Parameters\n",
    "    ----------\n",
    "    ax: matplotlib axes object\n",
    "    clf: a classifier\n",
    "    xx: meshgrid ndarray\n",
    "    yy: meshgrid ndarray\n",
    "    params: dictionary of params to pass to contourf, optional\n",
    "    '''\n",
    "    Z = clf.predict(np.c_[xx.ravel(), yy.ravel()])\n",
    "    Z = Z.reshape(xx.shape)\n",
    "    out = ax.contourf(xx, yy, Z, **params)\n",
    "    return out"
   ]
  },
  {
   "cell_type": "code",
   "execution_count": 27,
   "metadata": {},
   "outputs": [
    {
     "name": "stdout",
     "output_type": "stream",
     "text": [
      "Accuracy of SVC with RBF kernel is = 85.1063829787\n",
      "Accuracy of SVC with polynomial (degree 3) kernel is = 85.1063829787\n"
     ]
    },
    {
     "data": {
      "image/png": "[encoded data removed]",
      "text/plain": [
       "<matplotlib.figure.Figure at 0x7fce315c14d0>"
      ]
     },
     "metadata": {},
     "output_type": "display_data"
    }
   ],
   "source": [
    "C = 1.0  # SVM regularization parameter\n",
    "iterations = 50\n",
    "\n",
    "# We create an instance of SVM and fit out data. We do not scale our\n",
    "# data since we want to plot the support vectors\n",
    "models = (svm.SVC(kernel='rbf', gamma=0.7, C=C, max_iter=iterations),\n",
    "          svm.SVC(kernel='poly', degree=3, C=C, max_iter=iterations))\n",
    "models = (clf.fit(X, y) for clf in models)\n",
    "\n",
    "# title for the plots\n",
    "titles = ('SVC with RBF kernel',\n",
    "          'SVC with polynomial (degree 3) kernel')\n",
    "\n",
    "# Set-up 2x2 grid for plotting.\n",
    "fig, sub = plt.subplots(1, 2)\n",
    "plt.subplots_adjust(wspace=0.4, hspace=0.4)\n",
    "\n",
    "X0, X1 = X[:100, 0], X[:100, 1]\n",
    "xx, yy = make_meshgrid(X0, X1)\n",
    "\n",
    "for clf, title, ax in zip(models, titles, sub.flatten()):\n",
    "    print('Accuracy of {} is = {}'.format(title, test_svm(clf, test_X, test_y)))\n",
    "    plot_contours(ax, clf, xx, yy,\n",
    "                  cmap=plt.cm.coolwarm, alpha=0.8)\n",
    "    ax.scatter(X0, X1, c=y[:100], cmap=plt.cm.coolwarm, s=20, edgecolors='k')\n",
    "    ax.set_xlim([0, 1.5])\n",
    "    ax.set_ylim([0, 1.5])\n",
    "    ax.set_xlabel('Circularity')\n",
    "    ax.set_ylabel('Compactness')\n",
    "    ax.set_title(title)\n",
    "plt.show()"
   ]
  },
  {
   "cell_type": "markdown",
   "metadata": {},
   "source": [
    "## Training SVM with Multiple Features"
   ]
  },
  {
   "cell_type": "code",
   "execution_count": 93,
   "metadata": {
    "collapsed": true
   },
   "outputs": [],
   "source": [
    "def read_data(csv_file_path):\n",
    "    '''\n",
    "    Read the training data and return X and y\n",
    "    Returns:\n",
    "        X = Training samples (m - samples of n features)\n",
    "        y = Lables corresponding to each sample (size - m)\n",
    "    '''\n",
    "    data = np.loadtxt(csv_file_path, delimiter=',')\n",
    "    rows, cols = data.shape\n",
    "    y = data[:, -1].astype(np.int)\n",
    "    X = data[:, :cols-1]\n",
    "    return X, y"
   ]
  },
  {
   "cell_type": "code",
   "execution_count": 101,
   "metadata": {
    "collapsed": true
   },
   "outputs": [],
   "source": [
    "import pickle"
   ]
  },
  {
   "cell_type": "code",
   "execution_count": 129,
   "metadata": {
    "collapsed": true
   },
   "outputs": [],
   "source": [
    "def train_svm(train_data_file):\n",
    "    '''\n",
    "    Train an SVM model for the given X and y\n",
    "    '''\n",
    "    C = 1.0\n",
    "    #clf = svm.SVC(kernel='rbf', gamma=0.7, C=C, max_iter=100)\n",
    "    clf = svm.LinearSVC(C=C, max_iter=100)\n",
    "    #clf = svm.SVC(kernel='linear', C=C, max_iter=100)\n",
    "    \n",
    "    # Get the training data\n",
    "    X, y = read_data(train_data_file)\n",
    "    clf.fit(X, y)\n",
    "    return clf"
   ]
  },
  {
   "cell_type": "code",
   "execution_count": 98,
   "metadata": {
    "collapsed": true
   },
   "outputs": [],
   "source": [
    "def nut_or_bolt(model, img_file_path):\n",
    "    '''\n",
    "    Given an image file, predicts and returns the kind\n",
    "    Returns:\n",
    "        Nut or Bolt (a string)\n",
    "    '''\n",
    "    img = io.imread(img_file_path)\n",
    "    img = color.rgb2gray(img)\n",
    "    img = np.asarray(img * 255, np.uint8)\n",
    "    reszd_img = resize_image(img, 50).astype(np.float) / 255.0\n",
    "    \n",
    "    ip_data = reszd_img.flatten()\n",
    "    pred = model.predict(ip_data.reshape(1, -1))\n",
    "    print pred\n",
    "    result = 'Nut' if not pred[0] else 'Bolt'\n",
    "    return result"
   ]
  },
  {
   "cell_type": "code",
   "execution_count": 130,
   "metadata": {},
   "outputs": [
    {
     "name": "stdout",
     "output_type": "stream",
     "text": [
      "The Acccuracy of the model is =  84.6153846154\n"
     ]
    }
   ],
   "source": [
    "train_data_file = '../data/nuts_n_bolts_master/all/50x50/nuts_and_bolts_train.csv'\n",
    "test_data_file = '../data/nuts_n_bolts_master/all/50x50/nuts_and_bolts_test.csv'\n",
    "model_file_path = '../models/nut_n_bolt.pkl'\n",
    "\n",
    "# Train the model and store it in a file. It can be loaded anytime later\n",
    "model = train_svm(train_data_file)\n",
    "pickle.dump(model, open(model_file_path, 'w'))\n",
    "\n",
    "# Take an image and show the prediction + image\n",
    "loaded_model = pickle.load(open(model_file_path, 'r'))\n",
    "\n",
    "# Calculate the accuracy of the model\n",
    "X, y = read_data(test_data_file)\n",
    "accuracy = test_svm(loaded_model, X, y)"
   ]
  },
  {
   "cell_type": "code",
   "execution_count": null,
   "metadata": {
    "collapsed": true
   },
   "outputs": [],
   "source": []
  }
 ],
 "metadata": {
  "kernelspec": {
   "display_name": "Python 2",
   "language": "python",
   "name": "python2"
  },
  "language_info": {
   "codemirror_mode": {
    "name": "ipython",
    "version": 2
   },
   "file_extension": ".py",
   "mimetype": "text/x-python",
   "name": "python",
   "nbconvert_exporter": "python",
   "pygments_lexer": "ipython2",
   "version": "2.7.6"
  }
 },
 "nbformat": 4,
 "nbformat_minor": 2
}
